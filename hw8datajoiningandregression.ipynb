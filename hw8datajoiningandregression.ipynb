{
  "nbformat": 4,
  "nbformat_minor": 0,
  "metadata": {
    "colab": {
      "name": "hw8datajoiningandregression.ipynb",
      "provenance": [],
      "authorship_tag": "ABX9TyPjfXzLTrnpCqUIpzOWkXwl",
      "include_colab_link": true
    },
    "kernelspec": {
      "name": "python3",
      "display_name": "Python 3"
    },
    "language_info": {
      "name": "python"
    }
  },
  "cells": [
    {
      "cell_type": "markdown",
      "metadata": {
        "id": "view-in-github",
        "colab_type": "text"
      },
      "source": [
        "<a href=\"https://colab.research.google.com/github/MatthieuMichaux/MatthieuMichaux.github.io/blob/main/hw8datajoiningandregression.ipynb\" target=\"_parent\"><img src=\"https://colab.research.google.com/assets/colab-badge.svg\" alt=\"Open In Colab\"/></a>"
      ]
    },
    {
      "cell_type": "markdown",
      "metadata": {
        "id": "WcyhqCtnbA51"
      },
      "source": [
        "Homework 8, data joining"
      ]
    },
    {
      "cell_type": "code",
      "metadata": {
        "colab": {
          "base_uri": "https://localhost:8080/"
        },
        "id": "Bq8KlyCYbG7L",
        "outputId": "37eae76d-816a-447d-df21-dda27f2c9dcf"
      },
      "source": [
        "!pip install yfinance \n",
        "# This cell below would install the yfinance python package, using the pip package manager tool\n",
        "#only is inastalled for 8hrs"
      ],
      "execution_count": 3,
      "outputs": [
        {
          "output_type": "stream",
          "name": "stdout",
          "text": [
            "Requirement already satisfied: yfinance in /usr/local/lib/python3.7/dist-packages (0.1.67)\n",
            "Requirement already satisfied: lxml>=4.5.1 in /usr/local/lib/python3.7/dist-packages (from yfinance) (4.6.4)\n",
            "Requirement already satisfied: requests>=2.20 in /usr/local/lib/python3.7/dist-packages (from yfinance) (2.23.0)\n",
            "Requirement already satisfied: multitasking>=0.0.7 in /usr/local/lib/python3.7/dist-packages (from yfinance) (0.0.10)\n",
            "Requirement already satisfied: pandas>=0.24 in /usr/local/lib/python3.7/dist-packages (from yfinance) (1.1.5)\n",
            "Requirement already satisfied: numpy>=1.15 in /usr/local/lib/python3.7/dist-packages (from yfinance) (1.19.5)\n",
            "Requirement already satisfied: pytz>=2017.2 in /usr/local/lib/python3.7/dist-packages (from pandas>=0.24->yfinance) (2018.9)\n",
            "Requirement already satisfied: python-dateutil>=2.7.3 in /usr/local/lib/python3.7/dist-packages (from pandas>=0.24->yfinance) (2.8.2)\n",
            "Requirement already satisfied: six>=1.5 in /usr/local/lib/python3.7/dist-packages (from python-dateutil>=2.7.3->pandas>=0.24->yfinance) (1.15.0)\n",
            "Requirement already satisfied: certifi>=2017.4.17 in /usr/local/lib/python3.7/dist-packages (from requests>=2.20->yfinance) (2021.10.8)\n",
            "Requirement already satisfied: chardet<4,>=3.0.2 in /usr/local/lib/python3.7/dist-packages (from requests>=2.20->yfinance) (3.0.4)\n",
            "Requirement already satisfied: urllib3!=1.25.0,!=1.25.1,<1.26,>=1.21.1 in /usr/local/lib/python3.7/dist-packages (from requests>=2.20->yfinance) (1.24.3)\n",
            "Requirement already satisfied: idna<3,>=2.5 in /usr/local/lib/python3.7/dist-packages (from requests>=2.20->yfinance) (2.10)\n"
          ]
        }
      ]
    },
    {
      "cell_type": "code",
      "metadata": {
        "id": "C0fFBvAGbPsP"
      },
      "source": [
        "import yfinance as yf\n",
        "#yfinance is imported in this notebook"
      ],
      "execution_count": 6,
      "outputs": []
    },
    {
      "cell_type": "code",
      "metadata": {
        "id": "6DXK4Jr8bkJO"
      },
      "source": [
        "#download the data for the stock you wish to analyse\n",
        "#here FTSE (FTSE100), DJI (DowJones), N225 (Nikkei225), FCHI (CAC40) over the last 10 years\n",
        "FTSE100 = yf.Ticker(\"^FTSE\").history(period='10y')\n",
        "DowJones = yf.Ticker(\"^DJI\").history(period='10y')\n",
        "Nikkei225 = yf.Ticker(\"^N225\").history(period='10y')\n",
        "CAC40 = yf.Ticker(\"^FCHI\").history(period='10y')\n",
        "#NOT EFFICIENT CAN DO IT A MORE EFFICIENT WAY SEE BELOW"
      ],
      "execution_count": 10,
      "outputs": []
    },
    {
      "cell_type": "code",
      "metadata": {
        "colab": {
          "base_uri": "https://localhost:8080/",
          "height": 455
        },
        "id": "eQlU_i7UdD9I",
        "outputId": "89c204b9-1cc7-4002-bb76-cda1a01fdaeb"
      },
      "source": [
        "FTSE100"
      ],
      "execution_count": 11,
      "outputs": [
        {
          "output_type": "execute_result",
          "data": {
            "text/html": [
              "<div>\n",
              "<style scoped>\n",
              "    .dataframe tbody tr th:only-of-type {\n",
              "        vertical-align: middle;\n",
              "    }\n",
              "\n",
              "    .dataframe tbody tr th {\n",
              "        vertical-align: top;\n",
              "    }\n",
              "\n",
              "    .dataframe thead th {\n",
              "        text-align: right;\n",
              "    }\n",
              "</style>\n",
              "<table border=\"1\" class=\"dataframe\">\n",
              "  <thead>\n",
              "    <tr style=\"text-align: right;\">\n",
              "      <th></th>\n",
              "      <th>Open</th>\n",
              "      <th>High</th>\n",
              "      <th>Low</th>\n",
              "      <th>Close</th>\n",
              "      <th>Volume</th>\n",
              "      <th>Dividends</th>\n",
              "      <th>Stock Splits</th>\n",
              "    </tr>\n",
              "    <tr>\n",
              "      <th>Date</th>\n",
              "      <th></th>\n",
              "      <th></th>\n",
              "      <th></th>\n",
              "      <th></th>\n",
              "      <th></th>\n",
              "      <th></th>\n",
              "      <th></th>\n",
              "    </tr>\n",
              "  </thead>\n",
              "  <tbody>\n",
              "    <tr>\n",
              "      <th>2011-11-30</th>\n",
              "      <td>5337.000000</td>\n",
              "      <td>5539.000000</td>\n",
              "      <td>5275.000000</td>\n",
              "      <td>5505.399902</td>\n",
              "      <td>1647245500</td>\n",
              "      <td>0</td>\n",
              "      <td>0</td>\n",
              "    </tr>\n",
              "    <tr>\n",
              "      <th>2011-12-01</th>\n",
              "      <td>5505.399902</td>\n",
              "      <td>5553.899902</td>\n",
              "      <td>5486.899902</td>\n",
              "      <td>5489.299805</td>\n",
              "      <td>939174800</td>\n",
              "      <td>0</td>\n",
              "      <td>0</td>\n",
              "    </tr>\n",
              "    <tr>\n",
              "      <th>2011-12-02</th>\n",
              "      <td>5489.299805</td>\n",
              "      <td>5595.500000</td>\n",
              "      <td>5489.100098</td>\n",
              "      <td>5552.299805</td>\n",
              "      <td>984099700</td>\n",
              "      <td>0</td>\n",
              "      <td>0</td>\n",
              "    </tr>\n",
              "    <tr>\n",
              "      <th>2011-12-05</th>\n",
              "      <td>5552.299805</td>\n",
              "      <td>5602.799805</td>\n",
              "      <td>5545.899902</td>\n",
              "      <td>5568.000000</td>\n",
              "      <td>900658000</td>\n",
              "      <td>0</td>\n",
              "      <td>0</td>\n",
              "    </tr>\n",
              "    <tr>\n",
              "      <th>2011-12-06</th>\n",
              "      <td>5568.000000</td>\n",
              "      <td>5593.000000</td>\n",
              "      <td>5521.899902</td>\n",
              "      <td>5568.700195</td>\n",
              "      <td>857312600</td>\n",
              "      <td>0</td>\n",
              "      <td>0</td>\n",
              "    </tr>\n",
              "    <tr>\n",
              "      <th>...</th>\n",
              "      <td>...</td>\n",
              "      <td>...</td>\n",
              "      <td>...</td>\n",
              "      <td>...</td>\n",
              "      <td>...</td>\n",
              "      <td>...</td>\n",
              "      <td>...</td>\n",
              "    </tr>\n",
              "    <tr>\n",
              "      <th>2021-11-24</th>\n",
              "      <td>7266.700195</td>\n",
              "      <td>7307.899902</td>\n",
              "      <td>7246.000000</td>\n",
              "      <td>7286.299805</td>\n",
              "      <td>661514300</td>\n",
              "      <td>0</td>\n",
              "      <td>0</td>\n",
              "    </tr>\n",
              "    <tr>\n",
              "      <th>2021-11-25</th>\n",
              "      <td>7286.299805</td>\n",
              "      <td>7311.899902</td>\n",
              "      <td>7286.299805</td>\n",
              "      <td>7310.399902</td>\n",
              "      <td>487924100</td>\n",
              "      <td>0</td>\n",
              "      <td>0</td>\n",
              "    </tr>\n",
              "    <tr>\n",
              "      <th>2021-11-26</th>\n",
              "      <td>7310.399902</td>\n",
              "      <td>7310.399902</td>\n",
              "      <td>7042.100098</td>\n",
              "      <td>7044.000000</td>\n",
              "      <td>1714871800</td>\n",
              "      <td>0</td>\n",
              "      <td>0</td>\n",
              "    </tr>\n",
              "    <tr>\n",
              "      <th>2021-11-29</th>\n",
              "      <td>7044.000000</td>\n",
              "      <td>7161.899902</td>\n",
              "      <td>7044.000000</td>\n",
              "      <td>7110.000000</td>\n",
              "      <td>945061900</td>\n",
              "      <td>0</td>\n",
              "      <td>0</td>\n",
              "    </tr>\n",
              "    <tr>\n",
              "      <th>2021-11-30</th>\n",
              "      <td>7109.950195</td>\n",
              "      <td>7109.950195</td>\n",
              "      <td>6989.660156</td>\n",
              "      <td>7028.250000</td>\n",
              "      <td>0</td>\n",
              "      <td>0</td>\n",
              "      <td>0</td>\n",
              "    </tr>\n",
              "  </tbody>\n",
              "</table>\n",
              "<p>2521 rows × 7 columns</p>\n",
              "</div>"
            ],
            "text/plain": [
              "                   Open         High  ...  Dividends  Stock Splits\n",
              "Date                                  ...                         \n",
              "2011-11-30  5337.000000  5539.000000  ...          0             0\n",
              "2011-12-01  5505.399902  5553.899902  ...          0             0\n",
              "2011-12-02  5489.299805  5595.500000  ...          0             0\n",
              "2011-12-05  5552.299805  5602.799805  ...          0             0\n",
              "2011-12-06  5568.000000  5593.000000  ...          0             0\n",
              "...                 ...          ...  ...        ...           ...\n",
              "2021-11-24  7266.700195  7307.899902  ...          0             0\n",
              "2021-11-25  7286.299805  7311.899902  ...          0             0\n",
              "2021-11-26  7310.399902  7310.399902  ...          0             0\n",
              "2021-11-29  7044.000000  7161.899902  ...          0             0\n",
              "2021-11-30  7109.950195  7109.950195  ...          0             0\n",
              "\n",
              "[2521 rows x 7 columns]"
            ]
          },
          "metadata": {},
          "execution_count": 11
        }
      ]
    },
    {
      "cell_type": "code",
      "metadata": {
        "id": "V90LwVP3do90"
      },
      "source": [
        "#MORE EFFICIENT WAY:\n",
        "dfs=[] #creates empty list of dataframes\n",
        "for x in ['^FTSE','^DJI','^N225','^FCHI']: #[] means it is a list, df is dataframe\n",
        "   df = yf.Ticker(x).history(period='10y')\n",
        "   df=df[['Close']]\n",
        "   df['Name']=x\n",
        "   dfs.append(df) #append newly download and formatted dataframe to our list of d\n",
        "#ist of DataFrames, each containing the closing stock price and the stock name, for the past 10 years."
      ],
      "execution_count": 12,
      "outputs": []
    },
    {
      "cell_type": "code",
      "metadata": {
        "colab": {
          "base_uri": "https://localhost:8080/",
          "height": 175
        },
        "id": "91s0d4jAfVP9",
        "outputId": "78c904d7-b63d-491e-9a74-fa3547b58023"
      },
      "source": [
        "dfs[0].head(3) #dfs[0] is FTSE, dfs[1] is DowJones then Nikkei and CAC40\n",
        "#head 3 is first three data points"
      ],
      "execution_count": 14,
      "outputs": [
        {
          "output_type": "execute_result",
          "data": {
            "text/html": [
              "<div>\n",
              "<style scoped>\n",
              "    .dataframe tbody tr th:only-of-type {\n",
              "        vertical-align: middle;\n",
              "    }\n",
              "\n",
              "    .dataframe tbody tr th {\n",
              "        vertical-align: top;\n",
              "    }\n",
              "\n",
              "    .dataframe thead th {\n",
              "        text-align: right;\n",
              "    }\n",
              "</style>\n",
              "<table border=\"1\" class=\"dataframe\">\n",
              "  <thead>\n",
              "    <tr style=\"text-align: right;\">\n",
              "      <th></th>\n",
              "      <th>Close</th>\n",
              "      <th>Name</th>\n",
              "    </tr>\n",
              "    <tr>\n",
              "      <th>Date</th>\n",
              "      <th></th>\n",
              "      <th></th>\n",
              "    </tr>\n",
              "  </thead>\n",
              "  <tbody>\n",
              "    <tr>\n",
              "      <th>2011-11-30</th>\n",
              "      <td>5505.399902</td>\n",
              "      <td>^FTSE</td>\n",
              "    </tr>\n",
              "    <tr>\n",
              "      <th>2011-12-01</th>\n",
              "      <td>5489.299805</td>\n",
              "      <td>^FTSE</td>\n",
              "    </tr>\n",
              "    <tr>\n",
              "      <th>2011-12-02</th>\n",
              "      <td>5552.299805</td>\n",
              "      <td>^FTSE</td>\n",
              "    </tr>\n",
              "  </tbody>\n",
              "</table>\n",
              "</div>"
            ],
            "text/plain": [
              "                  Close   Name\n",
              "Date                          \n",
              "2011-11-30  5505.399902  ^FTSE\n",
              "2011-12-01  5489.299805  ^FTSE\n",
              "2011-12-02  5552.299805  ^FTSE"
            ]
          },
          "metadata": {},
          "execution_count": 14
        }
      ]
    },
    {
      "cell_type": "code",
      "metadata": {
        "colab": {
          "base_uri": "https://localhost:8080/",
          "height": 455
        },
        "id": "KEUHcbxefvXu",
        "outputId": "c10a25d3-cf57-42a2-f28d-f7caeb8b7020"
      },
      "source": [
        "import pandas as pd\n",
        "pd.concat([ dfs[0],dfs[1] ]) #list because () of dataframes, if don't put [0],[1] but just dfs all dataframes will appear\n",
        "#concatenation= the action of linking things together in a series, or the condition of being linked in such a way, columns have to be exactly the same though"
      ],
      "execution_count": 16,
      "outputs": [
        {
          "output_type": "execute_result",
          "data": {
            "text/html": [
              "<div>\n",
              "<style scoped>\n",
              "    .dataframe tbody tr th:only-of-type {\n",
              "        vertical-align: middle;\n",
              "    }\n",
              "\n",
              "    .dataframe tbody tr th {\n",
              "        vertical-align: top;\n",
              "    }\n",
              "\n",
              "    .dataframe thead th {\n",
              "        text-align: right;\n",
              "    }\n",
              "</style>\n",
              "<table border=\"1\" class=\"dataframe\">\n",
              "  <thead>\n",
              "    <tr style=\"text-align: right;\">\n",
              "      <th></th>\n",
              "      <th>Close</th>\n",
              "      <th>Name</th>\n",
              "    </tr>\n",
              "    <tr>\n",
              "      <th>Date</th>\n",
              "      <th></th>\n",
              "      <th></th>\n",
              "    </tr>\n",
              "  </thead>\n",
              "  <tbody>\n",
              "    <tr>\n",
              "      <th>2011-11-30</th>\n",
              "      <td>5505.399902</td>\n",
              "      <td>^FTSE</td>\n",
              "    </tr>\n",
              "    <tr>\n",
              "      <th>2011-12-01</th>\n",
              "      <td>5489.299805</td>\n",
              "      <td>^FTSE</td>\n",
              "    </tr>\n",
              "    <tr>\n",
              "      <th>2011-12-02</th>\n",
              "      <td>5552.299805</td>\n",
              "      <td>^FTSE</td>\n",
              "    </tr>\n",
              "    <tr>\n",
              "      <th>2011-12-05</th>\n",
              "      <td>5568.000000</td>\n",
              "      <td>^FTSE</td>\n",
              "    </tr>\n",
              "    <tr>\n",
              "      <th>2011-12-06</th>\n",
              "      <td>5568.700195</td>\n",
              "      <td>^FTSE</td>\n",
              "    </tr>\n",
              "    <tr>\n",
              "      <th>...</th>\n",
              "      <td>...</td>\n",
              "      <td>...</td>\n",
              "    </tr>\n",
              "    <tr>\n",
              "      <th>2021-11-22</th>\n",
              "      <td>35619.250000</td>\n",
              "      <td>^DJI</td>\n",
              "    </tr>\n",
              "    <tr>\n",
              "      <th>2021-11-23</th>\n",
              "      <td>35813.800781</td>\n",
              "      <td>^DJI</td>\n",
              "    </tr>\n",
              "    <tr>\n",
              "      <th>2021-11-24</th>\n",
              "      <td>35804.378906</td>\n",
              "      <td>^DJI</td>\n",
              "    </tr>\n",
              "    <tr>\n",
              "      <th>2021-11-26</th>\n",
              "      <td>34899.339844</td>\n",
              "      <td>^DJI</td>\n",
              "    </tr>\n",
              "    <tr>\n",
              "      <th>2021-11-29</th>\n",
              "      <td>35135.941406</td>\n",
              "      <td>^DJI</td>\n",
              "    </tr>\n",
              "  </tbody>\n",
              "</table>\n",
              "<p>5037 rows × 2 columns</p>\n",
              "</div>"
            ],
            "text/plain": [
              "                   Close   Name\n",
              "Date                           \n",
              "2011-11-30   5505.399902  ^FTSE\n",
              "2011-12-01   5489.299805  ^FTSE\n",
              "2011-12-02   5552.299805  ^FTSE\n",
              "2011-12-05   5568.000000  ^FTSE\n",
              "2011-12-06   5568.700195  ^FTSE\n",
              "...                  ...    ...\n",
              "2021-11-22  35619.250000   ^DJI\n",
              "2021-11-23  35813.800781   ^DJI\n",
              "2021-11-24  35804.378906   ^DJI\n",
              "2021-11-26  34899.339844   ^DJI\n",
              "2021-11-29  35135.941406   ^DJI\n",
              "\n",
              "[5037 rows x 2 columns]"
            ]
          },
          "metadata": {},
          "execution_count": 16
        }
      ]
    },
    {
      "cell_type": "code",
      "metadata": {
        "id": "QiMWJ-ykgE4q"
      },
      "source": [
        "#EFFICIENT MAXIMUM:\n",
        "dfz=pd.DataFrame() #initialise empty DataFrame\n",
        "for x in dfs:\n",
        "  stock_name=x['Name'].values[0] #stock_name=x['Name'] creates an array with the stock names, values[0] will be the first value of the name so \"NVDA\"\n",
        "  stock_name=stock_name.replace('^','')\n",
        "  stock_name=stock_name.replace('FCHI','CAC40')\n",
        "  stock_name=stock_name.replace('N225','Nikkei 225')\n",
        "  stock_name=stock_name.replace('DJI','Dow Jones')\n",
        "  stock_name=stock_name.replace('FTSE','FTSE 100')\n",
        "  x=x[['Close']]\n",
        "  x.columns=[stock_name]\n",
        "  dfz=x.join(dfz)"
      ],
      "execution_count": 21,
      "outputs": []
    },
    {
      "cell_type": "code",
      "metadata": {
        "colab": {
          "base_uri": "https://localhost:8080/",
          "height": 237
        },
        "id": "Fo_te_uFgcEg",
        "outputId": "b698d263-7dc2-487c-f655-37116d3c31c8"
      },
      "source": [
        "dfz.head()"
      ],
      "execution_count": 22,
      "outputs": [
        {
          "output_type": "execute_result",
          "data": {
            "text/html": [
              "<div>\n",
              "<style scoped>\n",
              "    .dataframe tbody tr th:only-of-type {\n",
              "        vertical-align: middle;\n",
              "    }\n",
              "\n",
              "    .dataframe tbody tr th {\n",
              "        vertical-align: top;\n",
              "    }\n",
              "\n",
              "    .dataframe thead th {\n",
              "        text-align: right;\n",
              "    }\n",
              "</style>\n",
              "<table border=\"1\" class=\"dataframe\">\n",
              "  <thead>\n",
              "    <tr style=\"text-align: right;\">\n",
              "      <th></th>\n",
              "      <th>CAC40</th>\n",
              "      <th>Nikkei 225</th>\n",
              "      <th>Dow Jones</th>\n",
              "      <th>FTSE 100</th>\n",
              "    </tr>\n",
              "    <tr>\n",
              "      <th>Date</th>\n",
              "      <th></th>\n",
              "      <th></th>\n",
              "      <th></th>\n",
              "      <th></th>\n",
              "    </tr>\n",
              "  </thead>\n",
              "  <tbody>\n",
              "    <tr>\n",
              "      <th>2011-11-30</th>\n",
              "      <td>3154.620117</td>\n",
              "      <td>8434.610352</td>\n",
              "      <td>12045.679688</td>\n",
              "      <td>5505.399902</td>\n",
              "    </tr>\n",
              "    <tr>\n",
              "      <th>2011-12-01</th>\n",
              "      <td>3129.949951</td>\n",
              "      <td>8597.379883</td>\n",
              "      <td>12020.030273</td>\n",
              "      <td>5489.299805</td>\n",
              "    </tr>\n",
              "    <tr>\n",
              "      <th>2011-12-02</th>\n",
              "      <td>3164.949951</td>\n",
              "      <td>8643.750000</td>\n",
              "      <td>12019.419922</td>\n",
              "      <td>5552.299805</td>\n",
              "    </tr>\n",
              "    <tr>\n",
              "      <th>2011-12-05</th>\n",
              "      <td>3201.280029</td>\n",
              "      <td>8695.980469</td>\n",
              "      <td>12097.830078</td>\n",
              "      <td>5568.000000</td>\n",
              "    </tr>\n",
              "    <tr>\n",
              "      <th>2011-12-06</th>\n",
              "      <td>3179.629883</td>\n",
              "      <td>8575.160156</td>\n",
              "      <td>12150.129883</td>\n",
              "      <td>5568.700195</td>\n",
              "    </tr>\n",
              "  </tbody>\n",
              "</table>\n",
              "</div>"
            ],
            "text/plain": [
              "                  CAC40   Nikkei 225     Dow Jones     FTSE 100\n",
              "Date                                                           \n",
              "2011-11-30  3154.620117  8434.610352  12045.679688  5505.399902\n",
              "2011-12-01  3129.949951  8597.379883  12020.030273  5489.299805\n",
              "2011-12-02  3164.949951  8643.750000  12019.419922  5552.299805\n",
              "2011-12-05  3201.280029  8695.980469  12097.830078  5568.000000\n",
              "2011-12-06  3179.629883  8575.160156  12150.129883  5568.700195"
            ]
          },
          "metadata": {},
          "execution_count": 22
        }
      ]
    },
    {
      "cell_type": "code",
      "metadata": {
        "id": "A4enL7Dzget2"
      },
      "source": [
        "dfz.to_csv('my_indexes.csv')"
      ],
      "execution_count": 23,
      "outputs": []
    },
    {
      "cell_type": "code",
      "metadata": {
        "id": "_EIUps4FhOus"
      },
      "source": [
        "import json"
      ],
      "execution_count": 24,
      "outputs": []
    },
    {
      "cell_type": "code",
      "metadata": {
        "colab": {
          "base_uri": "https://localhost:8080/"
        },
        "id": "pxyevK46iqnB",
        "outputId": "c183229a-2f22-412a-d627-9440b93d4786"
      },
      "source": [
        "json_list_of_dicts=list(df.T.to_dict().values())\n",
        "open('my_indexes.json','w').write(json.dumps(json_list_of_dicts))"
      ],
      "execution_count": 25,
      "outputs": [
        {
          "output_type": "execute_result",
          "data": {
            "text/plain": [
              "114908"
            ]
          },
          "metadata": {},
          "execution_count": 25
        }
      ]
    },
    {
      "cell_type": "markdown",
      "metadata": {
        "id": "t5fOhmGOiQKy"
      },
      "source": [
        "Regression using seaborn"
      ]
    },
    {
      "cell_type": "code",
      "metadata": {
        "id": "u0QSdNBYjx8I"
      },
      "source": [
        "import matplotlib.pyplot as plt\n",
        "plt.style.use('classic')\n",
        "%matplotlib inline\n",
        "import numpy as np\n",
        "import pandas as pd"
      ],
      "execution_count": 30,
      "outputs": []
    },
    {
      "cell_type": "code",
      "metadata": {
        "colab": {
          "base_uri": "https://localhost:8080/",
          "height": 112
        },
        "id": "BFFBp8XMjEbG",
        "outputId": "86653680-0fcf-4ed8-f658-da361dd4f064"
      },
      "source": [
        "#load the index data to the working folder\n",
        "indexes=pd.read_csv('my_indexes.csv')\n",
        "indexes.head(2)"
      ],
      "execution_count": 31,
      "outputs": [
        {
          "output_type": "execute_result",
          "data": {
            "text/html": [
              "<div>\n",
              "<style scoped>\n",
              "    .dataframe tbody tr th:only-of-type {\n",
              "        vertical-align: middle;\n",
              "    }\n",
              "\n",
              "    .dataframe tbody tr th {\n",
              "        vertical-align: top;\n",
              "    }\n",
              "\n",
              "    .dataframe thead th {\n",
              "        text-align: right;\n",
              "    }\n",
              "</style>\n",
              "<table border=\"1\" class=\"dataframe\">\n",
              "  <thead>\n",
              "    <tr style=\"text-align: right;\">\n",
              "      <th></th>\n",
              "      <th>Date</th>\n",
              "      <th>CAC40</th>\n",
              "      <th>Nikkei 225</th>\n",
              "      <th>Dow Jones</th>\n",
              "      <th>FTSE 100</th>\n",
              "    </tr>\n",
              "  </thead>\n",
              "  <tbody>\n",
              "    <tr>\n",
              "      <th>0</th>\n",
              "      <td>2011-11-30</td>\n",
              "      <td>3154.620117</td>\n",
              "      <td>8434.610352</td>\n",
              "      <td>12045.679688</td>\n",
              "      <td>5505.399902</td>\n",
              "    </tr>\n",
              "    <tr>\n",
              "      <th>1</th>\n",
              "      <td>2011-12-01</td>\n",
              "      <td>3129.949951</td>\n",
              "      <td>8597.379883</td>\n",
              "      <td>12020.030273</td>\n",
              "      <td>5489.299805</td>\n",
              "    </tr>\n",
              "  </tbody>\n",
              "</table>\n",
              "</div>"
            ],
            "text/plain": [
              "         Date        CAC40   Nikkei 225     Dow Jones     FTSE 100\n",
              "0  2011-11-30  3154.620117  8434.610352  12045.679688  5505.399902\n",
              "1  2011-12-01  3129.949951  8597.379883  12020.030273  5489.299805"
            ]
          },
          "metadata": {},
          "execution_count": 31
        }
      ]
    },
    {
      "cell_type": "code",
      "metadata": {
        "id": "uQRQ1BVKjEQd"
      },
      "source": [
        "x = indexes['Date'].values\n",
        "x = pd.to_datetime(x) #let's make this a proper date\n",
        "y1 = indexes[indexes.columns[1]]\n",
        "y2 = indexes[indexes.columns[2]]\n",
        "y3 = indexes[indexes.columns[3]]\n",
        "y4 = indexes[indexes.columns[4]]"
      ],
      "execution_count": 32,
      "outputs": []
    },
    {
      "cell_type": "code",
      "metadata": {
        "id": "JhYgxgDLiULU"
      },
      "source": [
        "import seaborn as sns\n",
        "sns.set()"
      ],
      "execution_count": 33,
      "outputs": []
    },
    {
      "cell_type": "code",
      "metadata": {
        "colab": {
          "base_uri": "https://localhost:8080/",
          "height": 279
        },
        "id": "eyyC6qRsi7AN",
        "outputId": "81214f6e-7436-4998-a5b3-c20562e5bdb4"
      },
      "source": [
        "plt.plot(x, y1)\n",
        "plt.plot(x, y2)\n",
        "plt.plot(x, y3)\n",
        "plt.plot(x, y4)\n",
        "plt.legend(stocks.columns[1:], ncol=2, loc='upper left');"
      ],
      "execution_count": 34,
      "outputs": [
        {
          "output_type": "display_data",
          "data": {
            "image/png": "[encoded data removed]",
            "text/plain": [
              "<Figure size 432x288 with 1 Axes>"
            ]
          },
          "metadata": {}
        }
      ]
    },
    {
      "cell_type": "code",
      "metadata": {
        "id": "R8aPmU-LkVLg"
      },
      "source": [
        "#The main idea of Seaborn is that it provides high-level commands to create a variety of plot types useful for statistical data exploration, and even some statistical model fitting.\n",
        "#Let's take a look at a few of the datasets and plot types available in Seaborn. Note that all of the following could be done using raw Matplotlib commands (this is, in fact, what Seaborn does under the hood) but the Seaborn API is much more convenient."
      ],
      "execution_count": 35,
      "outputs": []
    },
    {
      "cell_type": "code",
      "metadata": {
        "colab": {
          "base_uri": "https://localhost:8080/",
          "height": 315
        },
        "id": "UjXrAQ-nkpZX",
        "outputId": "40765f20-c59c-492f-c3e7-c87d0899c503"
      },
      "source": [
        "sns.regplot(x='Dow Jones',y='Nikkei 225',data=indexes,line_kws={'color':'red'})"
      ],
      "execution_count": 67,
      "outputs": [
        {
          "output_type": "execute_result",
          "data": {
            "text/plain": [
              "<matplotlib.axes._subplots.AxesSubplot at 0x7ff8d8ce7050>"
            ]
          },
          "metadata": {},
          "execution_count": 67
        },
        {
          "output_type": "display_data",
          "data": {
            "image/png": "[encoded data removed]",
            "text/plain": [
              "<Figure size 432x288 with 1 Axes>"
            ]
          },
          "metadata": {}
        }
      ]
    },
    {
      "cell_type": "code",
      "metadata": {
        "colab": {
          "base_uri": "https://localhost:8080/",
          "height": 315
        },
        "id": "IrPkg0r-lIyY",
        "outputId": "0c6d8e2d-d09c-455a-ba04-245e89e15e84"
      },
      "source": [
        "sns.regplot(x='CAC40',y='FTSE 100',data=indexes, line_kws={'color':'red'})"
      ],
      "execution_count": 66,
      "outputs": [
        {
          "output_type": "execute_result",
          "data": {
            "text/plain": [
              "<matplotlib.axes._subplots.AxesSubplot at 0x7ff8d8bbced0>"
            ]
          },
          "metadata": {},
          "execution_count": 66
        },
        {
          "output_type": "display_data",
          "data": {
            "image/png": "[encoded data removed]",
            "text/plain": [
              "<Figure size 432x288 with 1 Axes>"
            ]
          },
          "metadata": {}
        }
      ]
    },
    {
      "cell_type": "code",
      "metadata": {
        "id": "ZX6hQabWlbQu"
      },
      "source": [
        "from scipy.stats import linregress"
      ],
      "execution_count": 43,
      "outputs": []
    },
    {
      "cell_type": "code",
      "metadata": {
        "id": "i-5ZhhoRlwlc"
      },
      "source": [
        "slope, intercept, rvalue, pvalue, stderr = linregress(x=indexes.dropna()['Dow Jones'], y=indexes.dropna()['Nikkei 225'])"
      ],
      "execution_count": 50,
      "outputs": []
    },
    {
      "cell_type": "code",
      "metadata": {
        "colab": {
          "base_uri": "https://localhost:8080/"
        },
        "id": "XHJVQkIymIFb",
        "outputId": "dafad6f1-f699-422b-9dd8-08ff1f11cca0"
      },
      "source": [
        "print('y = ',np.round(slope,2),' * x + ',np.round(intercept,2))\n",
        "print('R² = ',np.round(rvalue**2,2))"
      ],
      "execution_count": 51,
      "outputs": [
        {
          "output_type": "stream",
          "name": "stdout",
          "text": [
            "y =  0.81  * x +  1598.7\n",
            "R² =  0.89\n"
          ]
        }
      ]
    },
    {
      "cell_type": "code",
      "metadata": {
        "colab": {
          "base_uri": "https://localhost:8080/"
        },
        "id": "8OdWQVvzmItJ",
        "outputId": "a147b57d-cfb8-4310-c38c-661510c568bc"
      },
      "source": [
        "rvalue"
      ],
      "execution_count": 68,
      "outputs": [
        {
          "output_type": "execute_result",
          "data": {
            "text/plain": [
              "0.94387453039038"
            ]
          },
          "metadata": {},
          "execution_count": 68
        }
      ]
    },
    {
      "cell_type": "code",
      "metadata": {
        "id": "M1N4puXPtB7s"
      },
      "source": [
        "figfile="
      ],
      "execution_count": null,
      "outputs": []
    }
  ]
}